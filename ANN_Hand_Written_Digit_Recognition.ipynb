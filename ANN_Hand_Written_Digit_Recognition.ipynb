{
  "nbformat": 4,
  "nbformat_minor": 0,
  "metadata": {
    "colab": {
      "provenance": []
    },
    "kernelspec": {
      "name": "python3",
      "display_name": "Python 3"
    },
    "language_info": {
      "name": "python"
    }
  },
  "cells": [
    {
      "cell_type": "code",
      "execution_count": 126,
      "metadata": {
        "id": "OVQAUPyXE-lX"
      },
      "outputs": [],
      "source": [
        "import pandas as pd\n",
        "import numpy as np\n",
        "import matplotlib.pyplot as plt\n",
        "import  tensorflow as tf\n",
        "from tensorflow import keras\n",
        "from tensorflow.keras.datasets import mnist\n",
        "from tensorflow.keras.layers import Dense,Flatten\n",
        "from tensorflow.keras.models import Sequential\n",
        "import matplotlib.pyplot as plt\n",
        "\n"
      ]
    },
    {
      "cell_type": "code",
      "source": [
        "(xtrain , ytrain),(xtest,ytest) = mnist.load_data()"
      ],
      "metadata": {
        "id": "CcR7F8x8HFY5"
      },
      "execution_count": 27,
      "outputs": []
    },
    {
      "cell_type": "code",
      "source": [
        "ytrain"
      ],
      "metadata": {
        "colab": {
          "base_uri": "https://localhost:8080/"
        },
        "id": "KV9GRxLsJgB6",
        "outputId": "7d76c408-e134-4fd7-b3e2-40072c0a33ac"
      },
      "execution_count": 36,
      "outputs": [
        {
          "output_type": "execute_result",
          "data": {
            "text/plain": [
              "array([5, 0, 4, ..., 5, 6, 8], dtype=uint8)"
            ]
          },
          "metadata": {},
          "execution_count": 36
        }
      ]
    },
    {
      "cell_type": "code",
      "source": [
        "random_num = np.random.randint(0,len(xtrain))"
      ],
      "metadata": {
        "id": "W_vaQVD_KP6k"
      },
      "execution_count": 38,
      "outputs": []
    },
    {
      "cell_type": "code",
      "source": [
        "random_num = np.random.randint(0,len(xtrain))\n",
        "plt.imshow(xtrain[random_num])"
      ],
      "metadata": {
        "colab": {
          "base_uri": "https://localhost:8080/",
          "height": 447
        },
        "id": "Csz5_bFeKhDg",
        "outputId": "587a027f-b3a1-47c8-9610-5bdc50d5d1bd"
      },
      "execution_count": 58,
      "outputs": [
        {
          "output_type": "execute_result",
          "data": {
            "text/plain": [
              "<matplotlib.image.AxesImage at 0x7ad5b2e1c940>"
            ]
          },
          "metadata": {},
          "execution_count": 58
        },
        {
          "output_type": "display_data",
          "data": {
            "text/plain": [
              "<Figure size 640x480 with 1 Axes>"
            ],
            "image/png": "[encoded data removed]"
          },
          "metadata": {}
        }
      ]
    },
    {
      "cell_type": "code",
      "source": [
        "xtrain = xtrain / 255\n",
        "xtest = xtest / 255"
      ],
      "metadata": {
        "id": "frZrTsCvLMC5"
      },
      "execution_count": 67,
      "outputs": []
    },
    {
      "cell_type": "code",
      "source": [],
      "metadata": {
        "id": "jPIy1ih7LiVL"
      },
      "execution_count": 66,
      "outputs": []
    },
    {
      "cell_type": "code",
      "source": [
        "model = Sequential()\n",
        "model.add(Flatten(input_shape=(28,28)))\n",
        "model.add(Dense(128,activation = 'relu'))\n",
        "model.add(Dense(10,activation = 'softmax'))"
      ],
      "metadata": {
        "id": "KrssW7zcLqrx"
      },
      "execution_count": 77,
      "outputs": []
    },
    {
      "cell_type": "code",
      "source": [
        "model.summary()"
      ],
      "metadata": {
        "colab": {
          "base_uri": "https://localhost:8080/"
        },
        "id": "l-4-i3b6MEZN",
        "outputId": "67c4e147-e04d-402b-8976-02e9425f917c"
      },
      "execution_count": 78,
      "outputs": [
        {
          "output_type": "stream",
          "name": "stdout",
          "text": [
            "Model: \"sequential_2\"\n",
            "_________________________________________________________________\n",
            " Layer (type)                Output Shape              Param #   \n",
            "=================================================================\n",
            " flatten_4 (Flatten)         (None, 784)               0         \n",
            "                                                                 \n",
            " dense_4 (Dense)             (None, 128)               100480    \n",
            "                                                                 \n",
            " dense_5 (Dense)             (None, 10)                1290      \n",
            "                                                                 \n",
            "=================================================================\n",
            "Total params: 101770 (397.54 KB)\n",
            "Trainable params: 101770 (397.54 KB)\n",
            "Non-trainable params: 0 (0.00 Byte)\n",
            "_________________________________________________________________\n"
          ]
        }
      ]
    },
    {
      "cell_type": "code",
      "source": [
        "model.compile(optimizer = 'adam',loss = 'sparse_categorical_crossentropy',metrics = ['accuracy'])"
      ],
      "metadata": {
        "id": "rVlg3ATGMxtc"
      },
      "execution_count": 92,
      "outputs": []
    },
    {
      "cell_type": "code",
      "source": [],
      "metadata": {
        "id": "yKTe0aZ8OTni"
      },
      "execution_count": null,
      "outputs": []
    },
    {
      "cell_type": "code",
      "source": [
        "history  = model.fit(xtrain,ytrain,epochs = 12,validation_split = 0.2)"
      ],
      "metadata": {
        "colab": {
          "base_uri": "https://localhost:8080/"
        },
        "id": "S9ksNNvnM-y0",
        "outputId": "ea6bf414-c1a8-4524-84c6-7dd7c3d93c76"
      },
      "execution_count": 136,
      "outputs": [
        {
          "output_type": "stream",
          "name": "stdout",
          "text": [
            "Epoch 1/12\n",
            "1500/1500 [==============================] - 11s 7ms/step - loss: 1.2397 - accuracy: 0.6225 - val_loss: 1.2120 - val_accuracy: 0.6401\n",
            "Epoch 2/12\n",
            "1500/1500 [==============================] - 10s 7ms/step - loss: 1.2289 - accuracy: 0.6270 - val_loss: 1.2019 - val_accuracy: 0.6389\n",
            "Epoch 3/12\n",
            "1500/1500 [==============================] - 9s 6ms/step - loss: 1.2185 - accuracy: 0.6279 - val_loss: 1.1939 - val_accuracy: 0.6522\n",
            "Epoch 4/12\n",
            "1500/1500 [==============================] - 10s 7ms/step - loss: 1.2082 - accuracy: 0.6320 - val_loss: 1.1809 - val_accuracy: 0.6485\n",
            "Epoch 5/12\n",
            "1500/1500 [==============================] - 11s 7ms/step - loss: 1.1980 - accuracy: 0.6341 - val_loss: 1.1701 - val_accuracy: 0.6501\n",
            "Epoch 6/12\n",
            "1500/1500 [==============================] - 9s 6ms/step - loss: 1.1882 - accuracy: 0.6372 - val_loss: 1.1620 - val_accuracy: 0.6489\n",
            "Epoch 7/12\n",
            "1500/1500 [==============================] - 9s 6ms/step - loss: 1.1786 - accuracy: 0.6407 - val_loss: 1.1527 - val_accuracy: 0.6536\n",
            "Epoch 8/12\n",
            "1500/1500 [==============================] - 10s 6ms/step - loss: 1.1692 - accuracy: 0.6409 - val_loss: 1.1442 - val_accuracy: 0.6581\n",
            "Epoch 9/12\n",
            "1500/1500 [==============================] - 8s 5ms/step - loss: 1.1600 - accuracy: 0.6441 - val_loss: 1.1322 - val_accuracy: 0.6672\n",
            "Epoch 10/12\n",
            "1500/1500 [==============================] - 9s 6ms/step - loss: 1.1509 - accuracy: 0.6492 - val_loss: 1.1234 - val_accuracy: 0.6648\n",
            "Epoch 11/12\n",
            "1500/1500 [==============================] - 9s 6ms/step - loss: 1.1422 - accuracy: 0.6492 - val_loss: 1.1171 - val_accuracy: 0.6705\n",
            "Epoch 12/12\n",
            "1500/1500 [==============================] - 9s 6ms/step - loss: 1.1337 - accuracy: 0.6510 - val_loss: 1.1069 - val_accuracy: 0.6616\n"
          ]
        }
      ]
    },
    {
      "cell_type": "code",
      "source": [
        "acc = history.history['accuracy']\n",
        "val_acc = history.history['val_accuracy']\n",
        "loss = history.history['loss']\n",
        "val_loss = history.history['val_loss']"
      ],
      "metadata": {
        "id": "4_fzlKNJZdSZ"
      },
      "execution_count": 137,
      "outputs": []
    },
    {
      "cell_type": "code",
      "source": [
        "y_pred = model.predict(xtest)"
      ],
      "metadata": {
        "colab": {
          "base_uri": "https://localhost:8080/"
        },
        "id": "EVTQYYC0O8ro",
        "outputId": "5f1b4534-407f-4734-def7-07cae310ca7b"
      },
      "execution_count": 138,
      "outputs": [
        {
          "output_type": "stream",
          "name": "stdout",
          "text": [
            "313/313 [==============================] - 1s 2ms/step\n"
          ]
        }
      ]
    },
    {
      "cell_type": "code",
      "source": [
        "y_pred[0]"
      ],
      "metadata": {
        "colab": {
          "base_uri": "https://localhost:8080/"
        },
        "id": "crSH37nhPCrh",
        "outputId": "5fc07e33-c605-4002-f65e-1419aee7026f"
      },
      "execution_count": 111,
      "outputs": [
        {
          "output_type": "execute_result",
          "data": {
            "text/plain": [
              "array([0.0009125 , 0.09109364, 0.00398933, 0.05345867, 0.10985328,\n",
              "       0.0556971 , 0.00285776, 0.3885204 , 0.06731196, 0.22630532],\n",
              "      dtype=float32)"
            ]
          },
          "metadata": {},
          "execution_count": 111
        }
      ]
    },
    {
      "cell_type": "code",
      "source": [
        "hello = y_pred.argmax(axis = 1)"
      ],
      "metadata": {
        "id": "EuoKD9PoPPPL"
      },
      "execution_count": 139,
      "outputs": []
    },
    {
      "cell_type": "code",
      "source": [
        "hello"
      ],
      "metadata": {
        "colab": {
          "base_uri": "https://localhost:8080/"
        },
        "id": "lKjJ_WHNS_uh",
        "outputId": "63fc459d-8479-40bf-b510-bbabe85124db"
      },
      "execution_count": 140,
      "outputs": [
        {
          "output_type": "execute_result",
          "data": {
            "text/plain": [
              "array([7, 2, 1, ..., 9, 8, 6])"
            ]
          },
          "metadata": {},
          "execution_count": 140
        }
      ]
    },
    {
      "cell_type": "code",
      "source": [
        "ytest"
      ],
      "metadata": {
        "colab": {
          "base_uri": "https://localhost:8080/"
        },
        "id": "_lqCa4CZTB-Q",
        "outputId": "971f9e74-3bfe-4251-98f0-03402871386e"
      },
      "execution_count": 141,
      "outputs": [
        {
          "output_type": "execute_result",
          "data": {
            "text/plain": [
              "array([7, 2, 1, ..., 4, 5, 6], dtype=uint8)"
            ]
          },
          "metadata": {},
          "execution_count": 141
        }
      ]
    },
    {
      "cell_type": "code",
      "source": [
        "from sklearn.metrics import accuracy_score\n",
        "accuracy_score(ytest,hello)"
      ],
      "metadata": {
        "colab": {
          "base_uri": "https://localhost:8080/"
        },
        "id": "S3y9ackUPWU7",
        "outputId": "01f92329-ac9d-4bf0-de2f-ab7d2b156ca5"
      },
      "execution_count": 142,
      "outputs": [
        {
          "output_type": "execute_result",
          "data": {
            "text/plain": [
              "0.6563"
            ]
          },
          "metadata": {},
          "execution_count": 142
        }
      ]
    },
    {
      "cell_type": "code",
      "source": [
        "history.history.keys()"
      ],
      "metadata": {
        "colab": {
          "base_uri": "https://localhost:8080/"
        },
        "id": "UXnTmTr9cOSG",
        "outputId": "b07f31ff-3b3c-4f1e-de1f-9faa0562fb2f"
      },
      "execution_count": 147,
      "outputs": [
        {
          "output_type": "execute_result",
          "data": {
            "text/plain": [
              "dict_keys(['loss', 'accuracy', 'val_loss', 'val_accuracy'])"
            ]
          },
          "metadata": {},
          "execution_count": 147
        }
      ]
    },
    {
      "cell_type": "code",
      "source": [
        "plt.plot(history.history['accuracy'])\n",
        "plt.plot(history.history['val_accuracy'])\n"
      ],
      "metadata": {
        "colab": {
          "base_uri": "https://localhost:8080/",
          "height": 447
        },
        "id": "WJOE0IdGcZ7l",
        "outputId": "e0f0143b-747d-4ba2-c539-11f1262c2ea7"
      },
      "execution_count": 154,
      "outputs": [
        {
          "output_type": "execute_result",
          "data": {
            "text/plain": [
              "[<matplotlib.lines.Line2D at 0x7ad593dec250>]"
            ]
          },
          "metadata": {},
          "execution_count": 154
        },
        {
          "output_type": "display_data",
          "data": {
            "text/plain": [
              "<Figure size 640x480 with 1 Axes>"
            ],
            "image/png": "[encoded data removed]"
          },
          "metadata": {}
        }
      ]
    },
    {
      "cell_type": "code",
      "source": [
        "plt.plot(history.history['loss'])\n",
        "plt.plot(history.history['val_loss'])\n"
      ],
      "metadata": {
        "colab": {
          "base_uri": "https://localhost:8080/",
          "height": 447
        },
        "id": "i8CPu8ntc94g",
        "outputId": "23df60f5-3b4f-478a-d987-3b982b62a9dd"
      },
      "execution_count": 155,
      "outputs": [
        {
          "output_type": "execute_result",
          "data": {
            "text/plain": [
              "[<matplotlib.lines.Line2D at 0x7ad5939c6c50>]"
            ]
          },
          "metadata": {},
          "execution_count": 155
        },
        {
          "output_type": "display_data",
          "data": {
            "text/plain": [
              "<Figure size 640x480 with 1 Axes>"
            ],
            "image/png": "[encoded data removed]"
          },
          "metadata": {}
        }
      ]
    }
  ]
}